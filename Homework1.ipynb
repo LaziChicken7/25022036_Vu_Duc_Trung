{
 "cells": [
  {
   "cell_type": "code",
   "execution_count": 1,
   "id": "6c278b63",
   "metadata": {},
   "outputs": [
    {
     "name": "stdout",
     "output_type": "stream",
     "text": [
      "So gap doi n la: 10\n"
     ]
    }
   ],
   "source": [
    "n = int(input())\n",
    "print(\"So gap doi n la:\", n * 2)"
   ]
  },
  {
   "cell_type": "code",
   "execution_count": 2,
   "id": "4d9cea43",
   "metadata": {},
   "outputs": [
    {
     "name": "stdout",
     "output_type": "stream",
     "text": [
      "Dien tich hinh tron la: 78.5\n"
     ]
    }
   ],
   "source": [
    "a, b = map(int, input().split())\n",
    "mi = min(a, b)\n",
    "print(\"Dien tich hinh tron la:\", 3.14 * mi * mi)"
   ]
  },
  {
   "cell_type": "code",
   "execution_count": 7,
   "id": "6565a794",
   "metadata": {},
   "outputs": [
    {
     "name": "stdout",
     "output_type": "stream",
     "text": [
      "A\n"
     ]
    }
   ],
   "source": [
    "s = str(input())\n",
    "if ('a' <= s <= 'z'):\n",
    "    s = s.upper()\n",
    "else:\n",
    "    s = s.lower()\n",
    "print(s)"
   ]
  },
  {
   "cell_type": "code",
   "execution_count": null,
   "id": "4bd28919",
   "metadata": {},
   "outputs": [
    {
     "name": "stdout",
     "output_type": "stream",
     "text": [
      "g la ki tu alphabet\n"
     ]
    }
   ],
   "source": [
    "s = str(input())\n",
    "if ('a' <= s <= 'z' or 'A' <= s <= 'Z'):\n",
    "    print(s, \"la ki tu alphabet\")\n",
    "else:\n",
    "    print(s, \"khong la ki tu alphabet\")\n"
   ]
  },
  {
   "cell_type": "code",
   "execution_count": 6,
   "id": "530ab5f1",
   "metadata": {},
   "outputs": [
    {
     "name": "stdout",
     "output_type": "stream",
     "text": [
      "Dien tich tam giac: 14.696938456699069\n"
     ]
    }
   ],
   "source": [
    "import math\n",
    "a, b, c = map(int, input().split())\n",
    "if (a + b > c and a + c > b and b + c > a):\n",
    "    p = (a + b + c) / 2\n",
    "    s = math.sqrt(p * (p - a) * (p - b) * (p - c))\n",
    "    print(\"Dien tich tam giac:\", s)\n",
    "else:\n",
    "    print(\"Khong phai ba canh tam giac\")\n"
   ]
  },
  {
   "cell_type": "code",
   "execution_count": 19,
   "id": "5887e88e",
   "metadata": {},
   "outputs": [
    {
     "name": "stdout",
     "output_type": "stream",
     "text": [
      "e i\n"
     ]
    }
   ],
   "source": [
    "s = str(input())\n",
    "print(s[4], s[8])"
   ]
  },
  {
   "cell_type": "code",
   "execution_count": null,
   "id": "e54cbff4",
   "metadata": {},
   "outputs": [
    {
     "name": "stdout",
     "output_type": "stream",
     "text": [
      "Ho va ten: name\n"
     ]
    },
    {
     "data": {
      "text/plain": [
       "0"
      ]
     },
     "execution_count": 4,
     "metadata": {},
     "output_type": "execute_result"
    }
   ],
   "source": [
    "def main():\n",
    "    stage = [0, 50, 100, 200, 300, 400]\n",
    "    cost = [0, 1984, 2050, 2380, 2998, 3350, 3460]\n",
    "\n",
    "    name = str(input(\"Ten chu ho:\"))\n",
    "    pre = int(input(\"Chi so thang truoc:\"))\n",
    "    now = int(input(\"Chi so thang nay:\"))\n",
    "\n",
    "    used = now - pre\n",
    "    money = 0\n",
    "\n",
    "    print(\"Ho va ten:\", name)\n",
    "\n",
    "    i = 1\n",
    "    while(i <= 5 and used > stage[i]):\n",
    "        money += (stage[i] - stage[i-1]) * cost[i]\n",
    "        i+=1\n",
    "\n",
    "    money += (used - stage[i-1]) * cost[i]\n",
    "    print(f'Tien phai tra la: {money + money * 0.08:.0f}')\n",
    "\n",
    "main()\n"
   ]
  },
  {
   "cell_type": "code",
   "execution_count": 16,
   "id": "9c65cff1",
   "metadata": {},
   "outputs": [
    {
     "name": "stdout",
     "output_type": "stream",
     "text": [
      "7\n"
     ]
    }
   ],
   "source": [
    "s = \"7\"\n",
    "n = int(s)\n",
    "print(n)"
   ]
  }
 ],
 "metadata": {
  "kernelspec": {
   "display_name": "Python 3",
   "language": "python",
   "name": "python3"
  },
  "language_info": {
   "codemirror_mode": {
    "name": "ipython",
    "version": 3
   },
   "file_extension": ".py",
   "mimetype": "text/x-python",
   "name": "python",
   "nbconvert_exporter": "python",
   "pygments_lexer": "ipython3",
   "version": "3.13.5"
  }
 },
 "nbformat": 4,
 "nbformat_minor": 5
}
