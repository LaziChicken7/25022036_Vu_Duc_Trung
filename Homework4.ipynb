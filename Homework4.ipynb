{
 "cells": [
  {
   "cell_type": "code",
   "execution_count": null,
   "id": "66caee43",
   "metadata": {},
   "outputs": [],
   "source": [
    "#W4A1\n",
    "n = int(input(\"Nhap so nguyen n\"))\n",
    "res = 0\n",
    "for i in range(1, n + 1):\n",
    "    res += i\n",
    "print(f'Tong cac so tu 1 den {n} la {res}')"
   ]
  },
  {
   "cell_type": "code",
   "execution_count": null,
   "id": "0e45c743",
   "metadata": {},
   "outputs": [
    {
     "name": "stdout",
     "output_type": "stream",
     "text": [
      "Vui long nhap so nguyen trong khoang tu 1 -> 10^6\n",
      "Day la so nguyen to\n"
     ]
    }
   ],
   "source": [
    "#W4A2\n",
    "nx = int(1e6) + 2\n",
    "prime = [1] * nx\n",
    "\n",
    "prime[0] = prime[1] = 0\n",
    "for i in range(2, nx - 1):\n",
    "    if prime[i]:\n",
    "        for j in range(i * i, nx - 1, i):\n",
    "            prime[j] = 0\n",
    "\n",
    "while 1:\n",
    "    n = int(input(\"Nhap so nguyen n\"))\n",
    "    if (1 <= n <= 1e6):\n",
    "        break\n",
    "    print(\"Vui long nhap so nguyen trong khoang tu 1 -> 10^6\")\n",
    "\n",
    "if prime[n]:\n",
    "    print(\"Day la so nguyen to\")\n",
    "else:\n",
    "    print(\"Day khong phai la so nguyen to\")"
   ]
  },
  {
   "cell_type": "code",
   "execution_count": null,
   "id": "5c3f2965",
   "metadata": {},
   "outputs": [
    {
     "name": "stdout",
     "output_type": "stream",
     "text": [
      "3! = 6\n"
     ]
    }
   ],
   "source": [
    "#W4A3\n",
    "while 1:\n",
    "    n = int(input(\"Nhap so nguyen n\"))\n",
    "    if (0 < n < 100):\n",
    "        break\n",
    "    print(\"Vui long nhap so nguyen trong khoan tu 1 -> 99\")\n",
    "\n",
    "res = 1\n",
    "for i in range(1, n + 1):\n",
    "    res *= i\n",
    "\n",
    "print(f'{n}! = {res}')"
   ]
  },
  {
   "cell_type": "code",
   "execution_count": null,
   "id": "4720ee5c",
   "metadata": {},
   "outputs": [
    {
     "name": "stdout",
     "output_type": "stream",
     "text": [
      "So chu so cua 324253542 la 9\n"
     ]
    }
   ],
   "source": [
    "#W4A4\n",
    "n = int(input(\"Nhap so nguyen n\"))\n",
    "tmp = n\n",
    "\n",
    "res = 0\n",
    "if n == 0:\n",
    "    res = 1\n",
    "while n > 0:\n",
    "    res += 1\n",
    "    n = int(n / 10)\n",
    "\n",
    "print(f'So chu so cua {tmp} la {res}')"
   ]
  },
  {
   "cell_type": "code",
   "execution_count": null,
   "id": "2e1eb5dc",
   "metadata": {},
   "outputs": [
    {
     "name": "stdout",
     "output_type": "stream",
     "text": [
      "I've found the meaning of life!\n"
     ]
    }
   ],
   "source": [
    "#W4A5\n",
    "def main():\n",
    "    n = int(input(\"Nhap so nguyen n\"))\n",
    "    while 1:\n",
    "        a = [int(i) for i in input(f'Nhap {n} so, cach nhau boi khoang trang').split()]\n",
    "        if len(a) != n:\n",
    "            print(f'Ban da nhap {len(a)} so, nhung yeu cau la {n} so')\n",
    "        else:\n",
    "            break\n",
    "\n",
    "    for i in a:\n",
    "        if i == 42:\n",
    "            print(\"I've found the meaning of life!\")\n",
    "            return\n",
    "    print(\"It's a joke!\")\n",
    "\n",
    "main()"
   ]
  },
  {
   "cell_type": "code",
   "execution_count": null,
   "id": "2897b8ea",
   "metadata": {},
   "outputs": [
    {
     "name": "stdout",
     "output_type": "stream",
     "text": [
      "Tong cac so nguyen to trong doan [3, 20] la 75\n"
     ]
    }
   ],
   "source": [
    "#W4A6\n",
    "nx = int(1e6) + 2\n",
    "prime = [1] * nx\n",
    "\n",
    "prime[0] = prime[1] = 0\n",
    "for i in range(2, nx - 1):\n",
    "    if prime[i]:\n",
    "        for j in range(i * i, nx - 1, i):\n",
    "            prime[j] = 0\n",
    "\n",
    "while 1:\n",
    "    a, b = map(int, input(\"Nhap so nguyen a va b\").split())\n",
    "    if (1 <= a <= 1e6 and 1 <= b <= 1e6):\n",
    "        break\n",
    "    print(\"Vui long nhap so nguyen trong khoang tu 1 -> 10^6\")\n",
    "\n",
    "res = 0\n",
    "for i in range(a, b + 1):\n",
    "    if prime[i]:\n",
    "        res += i\n",
    "\n",
    "print(f'Tong cac so nguyen to trong doan [{a}, {b}] la {res}')"
   ]
  },
  {
   "cell_type": "code",
   "execution_count": 18,
   "id": "31d64615",
   "metadata": {},
   "outputs": [
    {
     "name": "stdout",
     "output_type": "stream",
     "text": [
      "Uoc so nguyen to lon nhat cua 75 la 5\n"
     ]
    }
   ],
   "source": [
    "#W4A7\n",
    "def checkprime(n):\n",
    "    for i in range(2, int(n ** 0.5) + 1):\n",
    "        if n % i == 0:\n",
    "            return 0\n",
    "    return 1\n",
    "\n",
    "nx = int(1e6) + 2\n",
    "prime = [1] * nx\n",
    "\n",
    "prime[0] = prime[1] = 0\n",
    "for i in range(2, nx - 1):\n",
    "    if prime[i]:\n",
    "        for j in range(i * i, nx - 1, i):\n",
    "            prime[j] = 0\n",
    "\n",
    "def solve(n):\n",
    "    if n <= int(1e6):\n",
    "        if prime[n]:\n",
    "            return n\n",
    "    else:\n",
    "        if checkprime(n):\n",
    "            return n\n",
    "    return -1\n",
    "\n",
    "while 1:\n",
    "    n = int(input(\"Nhap so nguyen duong n\"))\n",
    "    if (n >= 2):\n",
    "        break\n",
    "    print(\"Vui long nhap so >= 2\")\n",
    "\n",
    "res = -1\n",
    "for i in range(2, int(n ** 0.5) + 1):\n",
    "    if n % i == 0:\n",
    "        res = max(res, solve(int(i)))\n",
    "        if n / i != i:\n",
    "            res = max(res, solve(int(n / i)))\n",
    "\n",
    "if res == -1:\n",
    "    print(f\"{n} khong co uoc so nguyen to!\")\n",
    "else:\n",
    "    print(f\"Uoc so nguyen to lon nhat cua {n} la {res}\")\n",
    "\n"
   ]
  },
  {
   "cell_type": "code",
   "execution_count": null,
   "id": "2ca75093",
   "metadata": {},
   "outputs": [
    {
     "name": "stdout",
     "output_type": "stream",
     "text": [
      "So can tim la 121\n"
     ]
    }
   ],
   "source": [
    "#W4A8\n",
    "n = int(input(\"Nhap so nguyen duong n\"))\n",
    "reverse = str(\"\")\n",
    "#Tao mot xau reverse de dao nguoc so nguyen duong n\n",
    "\n",
    "check = 0\n",
    "while check == 0:\n",
    "    tmp = n\n",
    "    reverse = \"\"\n",
    "    #Su dung ham lap while de dao nguoc xau\n",
    "    while tmp > 0:\n",
    "        reverse += str(tmp % 10) #Lay chu so hang don vi (ben phai ngoai cung) de cong vao xau\n",
    "        tmp //= 10 #Loai bo chu so hang don vi do\n",
    "    #VD: 12773[5] -> 1277[3] -> 127[7] -> 12[7] -> 1[2] -> [1]\n",
    "    #reverse: 5 -> 53 -> 537 -> 5377 -> 53772 -> 537721\n",
    "\n",
    "    m = 0\n",
    "    #Su dung ham lap for + toan cap 1 de chuyen xau thanh so nguyen duong\n",
    "    for x in reverse:\n",
    "        m = m * 10 + int(x)\n",
    "    #Cong lai so nguyen duong do vao n\n",
    "    n += m\n",
    "\n",
    "    #Chuyen hoa lai thanh xau de kiem tra xau doi xung\n",
    "    s = str(n)\n",
    "    check = 1\n",
    "    for i in range(0, len(s) // 2):\n",
    "        #Kiem tra xem [chu cai thu i tu trai sang phai] co bang [chu cai thu i tu phai sang trai hay khong]?\n",
    "        #Neu bang thi kiem tra tiep, con neu khong bang -> Ro rang khong phai xau doi xung, gan check = 0\n",
    "        if (s[i] != s[len(s) - 1 - i]):\n",
    "            check = 0\n",
    "    \n",
    "    #Khi check = 1 -> Xau do da la xau doi xung roi thi thoat vong lap va in ra so do\n",
    "    #Nguoc lai khi check = 0 (chua dat duoc ket qua can dat) -> Thuc hien tiep theo yeu cau de\n",
    "\n",
    "#In ra ket qua so doi xung tim duoc\n",
    "print(f'So can tim la {n}')\n"
   ]
  },
  {
   "cell_type": "code",
   "execution_count": 6,
   "id": "d5511b59",
   "metadata": {},
   "outputs": [
    {
     "name": "stdout",
     "output_type": "stream",
     "text": [
      "0 1 4 9 16 25 36 49 64 81 169 196 256 289 324 361 529 576 625 729 784 841 961 1024 1089 1296 1369 1764 1849 1936 2304 2401 2601 2704 2809 2916 3025 3249 3481 3721 4096 4356 4761 5041 5184 5329 5476 6084 6241 6724 7056 7396 7569 7921 8649 9025 9216 9604 9801 "
     ]
    }
   ],
   "source": [
    "#W4A9\n",
    "def check(n):\n",
    "    c = [0] * 12\n",
    "    if n <= 9:\n",
    "        return 1\n",
    "    while n > 0:\n",
    "        c[n % 10] += 1\n",
    "        n //= 10\n",
    "    for i in range(0, 10):\n",
    "        if c[i] >= 2:\n",
    "            return 0\n",
    "    return 1\n",
    "\n",
    "n = int(input(\"Nhap so nguyen duong n\"))\n",
    "\n",
    "i = int(0); dem = int(0)\n",
    "while i * i <= n:\n",
    "    if check(i * i):\n",
    "        dem += 1\n",
    "        print(i * i, end = \" \")\n",
    "    i += 1\n",
    "\n",
    "if dem == 0:\n",
    "    print(\"No number\")"
   ]
  },
  {
   "cell_type": "code",
   "execution_count": 9,
   "id": "0804c0ab",
   "metadata": {},
   "outputs": [
    {
     "name": "stdout",
     "output_type": "stream",
     "text": [
      "703 171\n"
     ]
    }
   ],
   "source": [
    "#W4A10\n",
    "def count_collatz(n):\n",
    "    dem = int(1)\n",
    "    while n > 1:\n",
    "        if n % 2 == 0:\n",
    "            n //= 2\n",
    "        else:\n",
    "            n = 3 * n + 1\n",
    "        dem += 1\n",
    "\n",
    "    return dem\n",
    "\n",
    "def solve():\n",
    "    res = int(0); pos = int(0)\n",
    "    for i in range(1, n + 1):\n",
    "        tmp = count_collatz(i)\n",
    "        if res < tmp:\n",
    "            res = tmp\n",
    "            pos = i\n",
    "    print(f'{pos} {res}')\n",
    "    \n",
    "\n",
    "try:\n",
    "    n = int(input(\"Nhap vao mot so nguyen duong\"))\n",
    "    solve()\n",
    "except ValueError:\n",
    "    print(\"Dau vao khong hop le, vui long nhap mot so nguyen\")"
   ]
  },
  {
   "cell_type": "code",
   "execution_count": null,
   "id": "6aec7e78",
   "metadata": {},
   "outputs": [
    {
     "name": "stdout",
     "output_type": "stream",
     "text": [
      "Dau vao khong hop le, vui long nhap mot so nguyen\n"
     ]
    }
   ],
   "source": [
    "#W4A11\n",
    "try:\n",
    "    n = int(input(\"Nhap so nguyen duong n\"))\n",
    "    res = 0\n",
    "    for i in range(1, int(n ** 0.5) + 1):\n",
    "        if n % i == 0:\n",
    "            if i & 1 == 1:\n",
    "                res += 1\n",
    "            if n // i != i:\n",
    "                if (n // i) & 1 == 1:\n",
    "                    res += 1\n",
    "\n",
    "    print(f'So luong uoc chan cua {n} la {res}')\n",
    "\n",
    "except ValueError:\n",
    "    print(\"Dau vao khong hop le, vui long nhap mot so nguyen\")"
   ]
  },
  {
   "cell_type": "code",
   "execution_count": 2,
   "id": "1831da68",
   "metadata": {},
   "outputs": [
    {
     "name": "stdout",
     "output_type": "stream",
     "text": [
      "So tien nhan duoc la 130477279\n"
     ]
    }
   ],
   "source": [
    "#W4A12\n",
    "try:\n",
    "    x = int(input(\"Nhap so tien gui tiet kiem o ngan hang\"))\n",
    "    n = int(input(\"Nhap so thang gui tiet kiem\"))\n",
    "    res = x\n",
    "    for i in range(0, n):\n",
    "        res = res * 1.007\n",
    "    print(f'So tien nhan duoc la {res:.0f}')\n",
    "\n",
    "except ValueError:\n",
    "    print(\"Dau vao khong hop le, vui long nhap mot so nguyen\")\n"
   ]
  },
  {
   "cell_type": "code",
   "execution_count": 11,
   "id": "b9198e7f",
   "metadata": {},
   "outputs": [
    {
     "name": "stdout",
     "output_type": "stream",
     "text": [
      "220 284 | 284 220\n",
      "true\n"
     ]
    }
   ],
   "source": [
    "#W4A13\n",
    "def count_divisor(n):\n",
    "    res = 0\n",
    "    for i in range(1, int(n ** 0.5) + 1):\n",
    "        if n % i == 0:\n",
    "            res += i\n",
    "            if n // i != i:\n",
    "                res += n // i\n",
    "    return res\n",
    "\n",
    "try:\n",
    "    a, b = map(int, input(\"Nhap hai so nguyen duong a va b\").split())\n",
    "    ca = count_divisor(a) - a\n",
    "    cb = count_divisor(b) - b\n",
    "    print(a, b, \"|\", ca, cb)\n",
    "    if ca == b and cb == a:\n",
    "        print(\"true\")\n",
    "    else:\n",
    "        print(\"false\")\n",
    "\n",
    "except ValueError:\n",
    "    print(\"Dau vao khong hop le, vui long nhap mot so nguyen\")"
   ]
  },
  {
   "cell_type": "code",
   "execution_count": 1,
   "id": "40ddaa7e",
   "metadata": {},
   "outputs": [
    {
     "name": "stdout",
     "output_type": "stream",
     "text": [
      "Uoc chung lon nhat cua 3 va 5 la 1\n"
     ]
    }
   ],
   "source": [
    "#W4A14\n",
    "import math\n",
    "\n",
    "try:\n",
    "    a, b = map(int, input(\"Nhap hai so nguyen duong a va b\").split())\n",
    "    print(f'Uoc chung lon nhat cua {a} va {b} la {math.gcd(a, b)}')\n",
    "\n",
    "except ValueError:\n",
    "    print(\"Dau vao khong hop le, vui long nhap mot so nguyen\")"
   ]
  },
  {
   "cell_type": "code",
   "execution_count": 5,
   "id": "eb9d8c34",
   "metadata": {},
   "outputs": [
    {
     "name": "stdout",
     "output_type": "stream",
     "text": [
      "So luong ga la: 5\n",
      "So luong cho la: 3\n"
     ]
    }
   ],
   "source": [
    "#W4A15\n",
    "def main():\n",
    "    for i in range(0, a + 1):\n",
    "        if i * 2 + (a - i) * 4 == b:\n",
    "            print(f'So luong ga la: {i}')\n",
    "            print(f'So luong cho la: {a - i}')\n",
    "            return\n",
    "    print(\"Invalid\")\n",
    "\n",
    "try:\n",
    "    a, b = map(int, input(\"Nhap tong so con va tong so chan\").split())\n",
    "    main()\n",
    "    \n",
    "\n",
    "except ValueError:\n",
    "    print(\"Dau vao khong hop le, vui long nhap mot so nguyen\")"
   ]
  }
 ],
 "metadata": {
  "kernelspec": {
   "display_name": "Python 3",
   "language": "python",
   "name": "python3"
  },
  "language_info": {
   "codemirror_mode": {
    "name": "ipython",
    "version": 3
   },
   "file_extension": ".py",
   "mimetype": "text/x-python",
   "name": "python",
   "nbconvert_exporter": "python",
   "pygments_lexer": "ipython3",
   "version": "3.13.5"
  }
 },
 "nbformat": 4,
 "nbformat_minor": 5
}
