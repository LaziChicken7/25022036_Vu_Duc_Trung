{
 "cells": [
  {
   "cell_type": "code",
   "execution_count": null,
   "id": "4c460ec7",
   "metadata": {},
   "outputs": [
    {
     "name": "stdout",
     "output_type": "stream",
     "text": [
      "Dien tich hinh chu nhat co canh 5 va 6 la 30\n",
      "Chu vi hinh chu nhat co canh 5 va 6 la 22\n"
     ]
    }
   ],
   "source": [
    "# bai 1\n",
    "a = int(input(\"Nhap canh dau tien cua hinh chu nhat\"))\n",
    "b = int(input(\"Nhap canh thu hai cua hinh chu nhat\"))\n",
    "s = a * b\n",
    "p = (a + b) * 2\n",
    "print(f'Dien tich hinh chu nhat co canh {a} va {b} la {s}')\n",
    "print(f'Chu vi hinh chu nhat co canh {a} va {b} la {p}')"
   ]
  },
  {
   "cell_type": "code",
   "execution_count": null,
   "id": "010527d9",
   "metadata": {},
   "outputs": [
    {
     "name": "stdout",
     "output_type": "stream",
     "text": [
      "Dien tich hinh tron co ban kinh 70 la 15386.00\n"
     ]
    }
   ],
   "source": [
    "# bai 2\n",
    "a = int(input(\"Nhap ban kinh cua hinh tron\"))\n",
    "s = 3.14 * a * a\n",
    "p = a * 3.14 * 2\n",
    "print(f'Dien tich hinh tron co ban kinh {a} la {s:.2f}')"
   ]
  },
  {
   "cell_type": "code",
   "execution_count": null,
   "id": "7923930d",
   "metadata": {},
   "outputs": [
    {
     "name": "stdout",
     "output_type": "stream",
     "text": [
      "Day la tam giac thuong\n",
      "Dien tich tam giac la: 14.70\n",
      "Chu vi tam giac la: 18\n"
     ]
    }
   ],
   "source": [
    "# bai 3\n",
    "def main():\n",
    "    a, b, c = map(int, input(\"Nhap ba canh cua tam giac\").split())\n",
    "    if (a + b < c or a + c < b or b + c < a):\n",
    "        print(\"Khong la ba canh cua tam giac\")\n",
    "    elif (a == b == c):\n",
    "        print(\"Day la tam giac deu\")\n",
    "    elif (a == b != c or a != b == c or a == c != b):\n",
    "        print(\"Day la tam giac can\")\n",
    "    elif (a * a + b * b == c * c or a * a + c * c == b * b or b * b + c * c == a * a):\n",
    "        print(\"Day la tam giac vuong\")\n",
    "    else:\n",
    "        print(\"Day la tam giac thuong\")\n",
    "    p = a + b + c\n",
    "    s = (p / 2 * (p / 2 - a) * (p / 2 - b) * (p / 2 - c)) ** 0.5\n",
    "    print(f'Dien tich tam giac la: {s:.2f}')\n",
    "    print(f'Chu vi tam giac la: {p}')\n",
    "\n",
    "main()\n",
    "    "
   ]
  },
  {
   "cell_type": "code",
   "execution_count": 12,
   "id": "80f25e29",
   "metadata": {},
   "outputs": [
    {
     "name": "stdout",
     "output_type": "stream",
     "text": [
      "Nghiem cua phuong trinh 5 * x + 6 = 0 la -1.20\n"
     ]
    }
   ],
   "source": [
    "# bai 4\n",
    "a, b = map(int, input(\"Nhap a va b\").split())\n",
    "x = -b / a\n",
    "print(f'Nghiem cua phuong trinh {a} * x + {b} = 0 la {x:.2f}')"
   ]
  },
  {
   "cell_type": "code",
   "execution_count": null,
   "id": "419e7399",
   "metadata": {},
   "outputs": [
    {
     "name": "stdout",
     "output_type": "stream",
     "text": [
      "Phuong trinh co 2 nghiem 50.0 va -1.0\n"
     ]
    }
   ],
   "source": [
    "# bai 5\n",
    "a, b, c = map(int, input(\"Nhap ba so a b c\").split())\n",
    "delta = b * b - 4 * a * c\n",
    "\n",
    "if (delta < 0):\n",
    "    print(\"Phuong trinh vo nghiem\")\n",
    "else:\n",
    "    x1 = (-b + (delta ** 0.5)) / (a * 2)\n",
    "    x2 = (-b - (delta ** 0.5)) / (a * 2)\n",
    "    if (x1 == x2):\n",
    "        print(f'Phuong trinh co 1 nghiem {x1}')\n",
    "    else:\n",
    "        print(f'Phuong trinh co 2 nghiem {x1} va {x2}')"
   ]
  },
  {
   "cell_type": "code",
   "execution_count": 18,
   "id": "65529b2e",
   "metadata": {},
   "outputs": [
    {
     "name": "stdout",
     "output_type": "stream",
     "text": [
      "Gia tri lon nhat cua 4 so la 8\n"
     ]
    }
   ],
   "source": [
    "# bai 6\n",
    "a, b, c, d = map(int, input(\"Nhap bon so a, b, c, d\").split())\n",
    "print(\"Gia tri lon nhat cua 4 so la\", max(a, b, c, d))"
   ]
  },
  {
   "cell_type": "code",
   "execution_count": 19,
   "id": "0a5dc44a",
   "metadata": {},
   "outputs": [
    {
     "name": "stdout",
     "output_type": "stream",
     "text": [
      "Gia tri nho nhat cua 4 so la 2\n"
     ]
    }
   ],
   "source": [
    "# bai 7\n",
    "a, b, c, d = map(int, input(\"Nhap bon so a, b, c, d\").split())\n",
    "print(\"Gia tri nho nhat cua 4 so la\", min(a, b, c, d))"
   ]
  },
  {
   "cell_type": "code",
   "execution_count": 20,
   "id": "cffc3f1f",
   "metadata": {},
   "outputs": [
    {
     "name": "stdout",
     "output_type": "stream",
     "text": [
      "Nghiem cua phuong trinh la: x = 0.0, y = 1.6666666666666667\n"
     ]
    }
   ],
   "source": [
    "# bai 8\n",
    "a, b, m, c, d, n = map(int, input(\"Nhap sau so a, b, m, c, d, n\").split())\n",
    "\n",
    "x = ((n - m) - (d - b)) / (c - a)\n",
    "y = (m - a * x) / b\n",
    "\n",
    "print(f'Nghiem cua phuong trinh la: x = {x}, y = {y}')\n"
   ]
  },
  {
   "cell_type": "code",
   "execution_count": 25,
   "id": "463fa600",
   "metadata": {},
   "outputs": [
    {
     "name": "stdout",
     "output_type": "stream",
     "text": [
      "Thoi gian lam viec la 18 gio, 33 phut, 9 giay\n"
     ]
    }
   ],
   "source": [
    "# bai 9\n",
    "a = int(input(\"Nhap so giay\"))\n",
    "\n",
    "h = int(a / 3600)\n",
    "m = int(a / 60 - h * 60)\n",
    "s = a % 60\n",
    "\n",
    "print(f'Thoi gian lam viec la {h} gio, {m} phut, {s} giay')"
   ]
  },
  {
   "cell_type": "code",
   "execution_count": null,
   "id": "50e8a33b",
   "metadata": {},
   "outputs": [
    {
     "name": "stdout",
     "output_type": "stream",
     "text": [
      "Diem A khong thuoc duong tron\n"
     ]
    }
   ],
   "source": [
    "# bai 10\n",
    "x1, y1 = map(int, input(\"Nhap toa do tam\").split())\n",
    "r = float(input(\"Nhap ban kinh duong tron\"))\n",
    "x2, y2 = map(int, input(\"Nhap toa do diem A\").split())\n",
    "\n",
    "dx = abs(x1 - x2)\n",
    "dy = abs(y1 - y2)\n",
    "d = (dx * dx + dy * dy) ** 0.5\n",
    "\n",
    "if (d <= r):\n",
    "    print(\"Diem A thuoc duong tron\")\n",
    "\n",
    "else:\n",
    "    print(\"Diem A khong thuoc duong tron\")\n"
   ]
  },
  {
   "cell_type": "code",
   "execution_count": 27,
   "id": "e7d847d2",
   "metadata": {},
   "outputs": [
    {
     "name": "stdout",
     "output_type": "stream",
     "text": [
      "Ket qua 5 ^ 7 = 78125\n"
     ]
    }
   ],
   "source": [
    "# bai 11\n",
    "x, y = map(int, input(\"Nhap hai so x va y\").split())\n",
    "print(f'Ket qua {x} ^ {y} = {x ** y}')"
   ]
  },
  {
   "cell_type": "code",
   "execution_count": 29,
   "id": "752dd960",
   "metadata": {},
   "outputs": [
    {
     "name": "stdout",
     "output_type": "stream",
     "text": [
      "7! = 5040\n"
     ]
    }
   ],
   "source": [
    "# bai 13\n",
    "n = int(input(\"Nhap n\"))\n",
    "\n",
    "ans = 1\n",
    "for i in range(1, n + 1):\n",
    "    ans *= i\n",
    "\n",
    "print(f'{n}! = {ans}')"
   ]
  },
  {
   "cell_type": "code",
   "execution_count": 30,
   "id": "04ae6745",
   "metadata": {},
   "outputs": [
    {
     "name": "stdout",
     "output_type": "stream",
     "text": [
      "Ket qua 7 ^ 3 = 343\n"
     ]
    }
   ],
   "source": [
    "# bai 14\n",
    "x, n = map(int, input(\"Nhap hai so x va n\").split())\n",
    "\n",
    "ans = 1\n",
    "for i in range(1, n + 1):\n",
    "    ans *= x\n",
    "\n",
    "print(f'Ket qua {x} ^ {n} = {ans}')\n"
   ]
  },
  {
   "cell_type": "code",
   "execution_count": 35,
   "id": "c766fc59",
   "metadata": {},
   "outputs": [
    {
     "name": "stdout",
     "output_type": "stream",
     "text": [
      "153\n",
      "370\n",
      "371\n",
      "407\n",
      "So chu so tim duoc la 4\n"
     ]
    }
   ],
   "source": [
    "# bai 18\n",
    "res = 0\n",
    "for a in range(1, 10):\n",
    "    for b in range(0, 10):\n",
    "        for c in range(0, 10):\n",
    "            if (a * 100 + b * 10 + c == a ** 3 + b ** 3 + c ** 3):\n",
    "                res += 1\n",
    "                print(a, b, c, sep = \"\")\n",
    "\n",
    "print(f'So chu so tim duoc la {res}')"
   ]
  },
  {
   "cell_type": "code",
   "execution_count": 44,
   "id": "dfb92874",
   "metadata": {},
   "outputs": [
    {
     "name": "stdout",
     "output_type": "stream",
     "text": [
      "Khoang gia tri khong hop le, vui long nhap lai\n",
      "21234 khong la mot so nguyen to\n"
     ]
    }
   ],
   "source": [
    "# bai 19\n",
    "def main():\n",
    "    nx = int(1e6) + 2\n",
    "    prime = [1] * nx\n",
    "\n",
    "    prime[0] = prime[1] = 0\n",
    "    for i in range(2, (int)((int)(1e6) ** 0.5), 1):\n",
    "        if (prime[i] == 1):\n",
    "            for j in range(i * i, (int)(1e6), i):\n",
    "                prime[j] = 0\n",
    "\n",
    "    while 1:\n",
    "        n = int(input(\"Nhap vao mot so\"))\n",
    "        if (n > (int)(1e6)):\n",
    "            print(\"Khoang gia tri khong hop le, vui long nhap lai\")\n",
    "        else:\n",
    "            break\n",
    "\n",
    "    if (prime[n] == 1):\n",
    "        print(f'{n} la mot so nguyen to')\n",
    "    else:\n",
    "        print(f'{n} khong la mot so nguyen to')\n",
    "\n",
    "main()\n"
   ]
  },
  {
   "cell_type": "code",
   "execution_count": 46,
   "id": "4ce79bc2",
   "metadata": {},
   "outputs": [
    {
     "name": "stdout",
     "output_type": "stream",
     "text": [
      "2 3 5 7 11 13 17 19 23 29 31 37 41 43 47 53 59 61 67 71 73 79 83 89 97 101 103 107 109 113 127 131 137 139 149 151 157 163 167 173 179 181 191 193 197 199 211 223 227 229 233 239 241 251 257 263 269 271 277 281 283 293 307 311 313 317 "
     ]
    }
   ],
   "source": [
    "# bai 20\n",
    "def main():\n",
    "    nx = int(1e6) + 2\n",
    "    prime = [1] * nx\n",
    "\n",
    "    prime[0] = prime[1] = 0\n",
    "    for i in range(2, (int)((int)(1e6) ** 0.5), 1):\n",
    "        if (prime[i] == 1):\n",
    "            for j in range(i * i, (int)(1e6), i):\n",
    "                prime[j] = 0\n",
    "\n",
    "    while 1:\n",
    "        n = int(input(\"Nhap vao mot so\"))\n",
    "        if (n > (int)(1e6)):\n",
    "            print(\"Khoang gia tri khong hop le, vui long nhap lai\")\n",
    "        else:\n",
    "            break\n",
    "\n",
    "    for i in range(1, n + 1):\n",
    "        if (prime[i]):\n",
    "            print(i, end = ' ')\n",
    "\n",
    "main()\n"
   ]
  }
 ],
 "metadata": {
  "kernelspec": {
   "display_name": "Python 3",
   "language": "python",
   "name": "python3"
  },
  "language_info": {
   "codemirror_mode": {
    "name": "ipython",
    "version": 3
   },
   "file_extension": ".py",
   "mimetype": "text/x-python",
   "name": "python",
   "nbconvert_exporter": "python",
   "pygments_lexer": "ipython3",
   "version": "3.13.5"
  }
 },
 "nbformat": 4,
 "nbformat_minor": 5
}
