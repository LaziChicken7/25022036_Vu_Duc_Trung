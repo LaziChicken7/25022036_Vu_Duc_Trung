{
 "cells": [
  {
   "cell_type": "code",
   "execution_count": 7,
   "id": "e99f4720",
   "metadata": {},
   "outputs": [
    {
     "name": "stdout",
     "output_type": "stream",
     "text": [
      "2\n"
     ]
    }
   ],
   "source": [
    "#W1A1\n",
    "a = 7\n",
    "b = 5\n",
    "c = a - b\n",
    "print(c)"
   ]
  },
  {
   "cell_type": "code",
   "execution_count": 8,
   "id": "a66c17c2",
   "metadata": {},
   "outputs": [
    {
     "name": "stdout",
     "output_type": "stream",
     "text": [
      "Thành phố: Hà Nội - Năm: 2025\n"
     ]
    }
   ],
   "source": [
    "#W1A2\n",
    "city = \"Hà Nội\"\n",
    "year = 2025\n",
    "print(\"Thành phố:\", city, \"- Năm:\", year)"
   ]
  },
  {
   "cell_type": "code",
   "execution_count": 9,
   "id": "73521e4a",
   "metadata": {},
   "outputs": [
    {
     "name": "stdout",
     "output_type": "stream",
     "text": [
      "1\n",
      "3\n",
      "6\n",
      "10\n"
     ]
    }
   ],
   "source": [
    "#W1A3\n",
    "n = 4\n",
    "t = 0\n",
    "for i in range(1, n + 1):\n",
    "    t += i\n",
    "    print(t)\n"
   ]
  },
  {
   "cell_type": "code",
   "execution_count": null,
   "id": "3a181892",
   "metadata": {},
   "outputs": [],
   "source": []
  },
  {
   "cell_type": "code",
   "execution_count": 10,
   "id": "93fa8e25",
   "metadata": {},
   "outputs": [
    {
     "name": "stdout",
     "output_type": "stream",
     "text": [
      "1 là số lẻ\n",
      "2 là số chẵn\n",
      "3 là số lẻ\n",
      "4 là số chẵn\n"
     ]
    }
   ],
   "source": [
    "#W1A4\n",
    "numbers = [1, 2, 3, 4]\n",
    "for x in numbers:\n",
    "    if x % 2 == 0:\n",
    "        print(x, \"là số chẵn\")\n",
    "    else:\n",
    "        print(x, \"là số lẻ\")\n"
   ]
  },
  {
   "cell_type": "code",
   "execution_count": 11,
   "id": "25f850cd",
   "metadata": {},
   "outputs": [
    {
     "name": "stdout",
     "output_type": "stream",
     "text": [
      "Số phần tử trong danh sách là: 4\n"
     ]
    }
   ],
   "source": [
    "#W1A5\n",
    "animals = [\"cat\", \"dog\", \"cat\", \"bird\"]\n",
    "count = 0\n",
    "for a in animals:\n",
    "    count += 1\n",
    "print(\"Số phần tử trong danh sách là:\", count)"
   ]
  },
  {
   "cell_type": "code",
   "execution_count": 12,
   "id": "7e28a465",
   "metadata": {},
   "outputs": [
    {
     "name": "stdout",
     "output_type": "stream",
     "text": [
      "=== AI Prediction System ===\n",
      "1) Sentiment analysis\n",
      "2) Weather forecast\n",
      "3) Exit\n",
      "Dang chay chuogn trinh du bao thoi tiet...\n",
      "Dang chay chuong trinh phan tich cam xuc...\n",
      "Dang thoat chuong trinh...\n"
     ]
    }
   ],
   "source": [
    "#W1A6\n",
    "import sys\n",
    "\n",
    "def sensiment_analysis():\n",
    "    print(\"Dang chay chuong trinh phan tich cam xuc...\")\n",
    "\n",
    "def weather_forcast():\n",
    "    print(\"Dang chay chuogn trinh du bao thoi tiet...\")\n",
    "\n",
    "def out():\n",
    "    print(\"Dang thoat chuong trinh...\")\n",
    "\n",
    "print(\"=== AI Prediction System ===\")\n",
    "print(\"1) Sentiment analysis\")\n",
    "print(\"2) Weather forecast\")\n",
    "print(\"3) Exit\")\n",
    "while 1:\n",
    "    luachon = int(input(\"Please choose an option:\"))\n",
    "    if luachon == 1:\n",
    "        sensiment_analysis()\n",
    "    elif luachon == 2:\n",
    "        weather_forcast()\n",
    "    else:\n",
    "        out()\n",
    "        break\n"
   ]
  },
  {
   "cell_type": "code",
   "execution_count": null,
   "id": "42148eb6",
   "metadata": {},
   "outputs": [],
   "source": [
    "#W1A7\n",
    "num = int(input(\"Nhập số: \"))\n",
    "if num % 2 == 0:\n",
    "    print(\"Số chẵn\")\n",
    "else:\n",
    "    print(\"Số lẻ\")"
   ]
  },
  {
   "cell_type": "code",
   "execution_count": null,
   "id": "b979decb",
   "metadata": {},
   "outputs": [
    {
     "name": "stdout",
     "output_type": "stream",
     "text": [
      "AI đang học lần 1\n",
      "Huấn luyện xong!\n",
      "AI đang học lần 2\n",
      "Huấn luyện xong!\n",
      "AI đang học lần 3\n",
      "Huấn luyện xong!\n"
     ]
    }
   ],
   "source": [
    "#W1A8\n",
    "for i in range(3):\n",
    "    print(\"AI đang học lần\", i + 1)\n",
    "    print(\"Huấn luyện xong!\")"
   ]
  },
  {
   "cell_type": "code",
   "execution_count": null,
   "id": "21ff71df",
   "metadata": {},
   "outputs": [
    {
     "name": "stdout",
     "output_type": "stream",
     "text": [
      "Dự đoán con vật: cat\n",
      "Dự đoán con vật: dog\n",
      "Dự đoán con vật: fish\n"
     ]
    }
   ],
   "source": [
    "#W1A9\n",
    "for x in [\"cat\", \"dog\", \"fish\"]:\n",
    "    print(\"Dự đoán con vật:\", x)"
   ]
  },
  {
   "cell_type": "code",
   "execution_count": null,
   "id": "bee37b9a",
   "metadata": {},
   "outputs": [
    {
     "name": "stdout",
     "output_type": "stream",
     "text": [
      "=== AI Prediction System ===\n",
      "1) Sentiment analysis\n",
      "2) Weather forecast\n",
      "3) Exit\n",
      "Please choose an option:\n"
     ]
    }
   ],
   "source": [
    "#W1A10\n",
    "# Simple menu\n",
    "print (\"=== AI Prediction System ===\")\n",
    "print(\"1) Sentiment analysis\")\n",
    "print(\"2) Weather forecast\")\n",
    "print('3) Exit')\n",
    "print(\"Please choose an option:\")"
   ]
  }
 ],
 "metadata": {
  "kernelspec": {
   "display_name": "Python 3",
   "language": "python",
   "name": "python3"
  },
  "language_info": {
   "codemirror_mode": {
    "name": "ipython",
    "version": 3
   },
   "file_extension": ".py",
   "mimetype": "text/x-python",
   "name": "python",
   "nbconvert_exporter": "python",
   "pygments_lexer": "ipython3",
   "version": "3.13.5"
  }
 },
 "nbformat": 4,
 "nbformat_minor": 5
}
