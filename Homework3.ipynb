{
 "cells": [
  {
   "cell_type": "code",
   "execution_count": 1,
   "id": "088c610c",
   "metadata": {},
   "outputs": [
    {
     "name": "stdout",
     "output_type": "stream",
     "text": [
      "So sau khi hoan doi la 7, 3\n"
     ]
    }
   ],
   "source": [
    "#W3A2\n",
    "a, b = map(int, input(\"Nhap hai so a va b\").split())\n",
    "\n",
    "a ^= b\n",
    "b ^= a\n",
    "a ^= b\n",
    "\n",
    "print(f'So sau khi hoan doi la {a}, {b}')"
   ]
  },
  {
   "cell_type": "code",
   "execution_count": null,
   "id": "7d98e1ac",
   "metadata": {},
   "outputs": [],
   "source": [
    "#W3A3\n",
    "n = int(input(\"Nhap so n\"))\n",
    "\n",
    "if (n & (n - 1) == 0):\n",
    "    print(f'{n} la luy thua cua 2')\n",
    "else:\n",
    "    print(f'{n} khong la luy thua cua 2')\n",
    "    "
   ]
  },
  {
   "cell_type": "code",
   "execution_count": 4,
   "id": "0e9bd60e",
   "metadata": {},
   "outputs": [
    {
     "name": "stdout",
     "output_type": "stream",
     "text": [
      "Ket qua 7 / 3 = 2 (lam tron xuong)\n"
     ]
    }
   ],
   "source": [
    "#W3A4\n",
    "m, n = map(int, input(\"Nhap hai so m va n\").split())\n",
    "\n",
    "print(f'Ket qua {m} / {n} = {int(m / n)} (lam tron xuong)')"
   ]
  },
  {
   "cell_type": "code",
   "execution_count": null,
   "id": "17b63f4c",
   "metadata": {},
   "outputs": [
    {
     "name": "stdout",
     "output_type": "stream",
     "text": [
      "Ket qua 7 / 9 = 1 (lam tron xuong)\n"
     ]
    }
   ],
   "source": [
    "#W3A5\n",
    "import math\n",
    "\n",
    "m, n = map(int, input(\"Nhap hai so m va n\").split())\n",
    "\n",
    "print(f'Ket qua {m} / {n} = {math.ceil(m / n)} (lam tron len)')"
   ]
  },
  {
   "cell_type": "code",
   "execution_count": 8,
   "id": "91487eb9",
   "metadata": {},
   "outputs": [
    {
     "name": "stdout",
     "output_type": "stream",
     "text": [
      "Odd\n"
     ]
    }
   ],
   "source": [
    "#W3A6\n",
    "\n",
    "n = int(input(\"Nhap so n\"))\n",
    "\n",
    "if (n & 1 == 1):\n",
    "    print(\"Odd\")\n",
    "else:\n",
    "    print(\"Even\")\n",
    "    "
   ]
  },
  {
   "cell_type": "code",
   "execution_count": 9,
   "id": "99f83d9e",
   "metadata": {},
   "outputs": [
    {
     "name": "stdout",
     "output_type": "stream",
     "text": [
      "Yes\n"
     ]
    }
   ],
   "source": [
    "#W3A7\n",
    "a, b = map(int, input(\"Nhap hai so a va b\").split())\n",
    "\n",
    "if (a < 0 and b < 0):\n",
    "    print(\"Yes\")\n",
    "else:\n",
    "    print(\"No\")"
   ]
  },
  {
   "cell_type": "code",
   "execution_count": 11,
   "id": "1c69f0cb",
   "metadata": {},
   "outputs": [
    {
     "name": "stdout",
     "output_type": "stream",
     "text": [
      "True\n"
     ]
    }
   ],
   "source": [
    "#W3A8\n",
    "a, b = map(str, input(\"Nhap hai xau a va b\").split())\n",
    "\n",
    "if (len(a) > len(b)):\n",
    "    print(\"True\")\n",
    "else:\n",
    "    print(\"False\")"
   ]
  },
  {
   "cell_type": "code",
   "execution_count": null,
   "id": "63c12710",
   "metadata": {},
   "outputs": [],
   "source": [
    "#W3A9\n",
    "def main():\n",
    "    a, b, c = map(int, input(\"Nhap ba canh cua tam giac\").split())\n",
    "    if (a + b < c or a + c < b or b + c < a):\n",
    "        print(\"No\")\n",
    "    else:\n",
    "        print(\"Yes\")\n",
    "\n",
    "main()    "
   ]
  },
  {
   "cell_type": "code",
   "execution_count": null,
   "id": "4e71954f",
   "metadata": {},
   "outputs": [],
   "source": [
    "#W3A10\n",
    "a, b, c, d = map(int, input(\"Nhap bon so a, b, c, d\").split())\n",
    "print(\"Gia tri lon nhat cua 4 so la\", max(a, b, c, d))"
   ]
  },
  {
   "cell_type": "code",
   "execution_count": null,
   "id": "42558052",
   "metadata": {},
   "outputs": [],
   "source": [
    "#W3A11\n",
    "def main():\n",
    "    a, b, c = map(int, input(\"Nhap ba canh cua tam giac\").split())\n",
    "    if (a + b < c or a + c < b or b + c < a):\n",
    "        print(\"Khong la ba canh cua tam giac\")\n",
    "    elif (a == b == c):\n",
    "        print(\"Day la tam giac deu\")\n",
    "    elif (a == b != c or a != b == c or a == c != b):\n",
    "        print(\"Day la tam giac can\")\n",
    "    elif (a * a + b * b == c * c or a * a + c * c == b * b or b * b + c * c == a * a):\n",
    "        print(\"Day la tam giac vuong\")\n",
    "    else:\n",
    "        print(\"Day la tam giac thuong\")\n",
    "\n",
    "main()\n",
    "    "
   ]
  },
  {
   "cell_type": "code",
   "execution_count": 13,
   "id": "2e196ba2",
   "metadata": {},
   "outputs": [
    {
     "name": "stdout",
     "output_type": "stream",
     "text": [
      "No\n"
     ]
    }
   ],
   "source": [
    "#W3A12\n",
    "def main():\n",
    "    n = int(input(\"Nhap so nam\"))\n",
    "    if (n % 4 == 0):\n",
    "        if (n % 400 == 0):\n",
    "            print(\"Yes\")\n",
    "            return 0\n",
    "        elif (n % 100 == 0):\n",
    "            print(\"No\")\n",
    "            return 0\n",
    "        else:\n",
    "            print(\"Yes\")\n",
    "            return 0\n",
    "    else:\n",
    "        print(\"No\")\n",
    "main()"
   ]
  },
  {
   "cell_type": "code",
   "execution_count": 15,
   "id": "541089b4",
   "metadata": {},
   "outputs": [
    {
     "name": "stdout",
     "output_type": "stream",
     "text": [
      "Nghiem cua phuong trinh la x = -0.43\n"
     ]
    }
   ],
   "source": [
    "#W3A14\n",
    "def main():\n",
    "    a, b = map(int, input(\"Nhap hai so a va b\").split())\n",
    "    if (a == 0 and b == 0):\n",
    "        print(\"Vo so nghiem\")\n",
    "        return 0\n",
    "    elif (a == 0 and b != 0):\n",
    "        print(\"Vo nghiem\")\n",
    "        return 0\n",
    "    x = -b / a\n",
    "    print(f'Nghiem cua phuong trinh la x = {x:.2f}')\n",
    "main()"
   ]
  },
  {
   "cell_type": "code",
   "execution_count": null,
   "id": "055aba18",
   "metadata": {},
   "outputs": [],
   "source": [
    "#W3A15\n",
    "n = int(input(\"Nhap so diem hoc sinh\"))\n",
    "\n",
    "if (n >= 8):\n",
    "    print(\"Gioi\")\n",
    "elif (n >= 6.5):\n",
    "    print(\"Kha\")\n",
    "elif (n >= 5):\n",
    "    print(\"Trung binh\")\n",
    "else:\n",
    "    print(\"Yeu\")"
   ]
  },
  {
   "cell_type": "code",
   "execution_count": null,
   "id": "41316e57",
   "metadata": {},
   "outputs": [],
   "source": [
    "#W3A16\n"
   ]
  }
 ],
 "metadata": {
  "kernelspec": {
   "display_name": "Python 3",
   "language": "python",
   "name": "python3"
  },
  "language_info": {
   "codemirror_mode": {
    "name": "ipython",
    "version": 3
   },
   "file_extension": ".py",
   "mimetype": "text/x-python",
   "name": "python",
   "nbconvert_exporter": "python",
   "pygments_lexer": "ipython3",
   "version": "3.13.5"
  }
 },
 "nbformat": 4,
 "nbformat_minor": 5
}
