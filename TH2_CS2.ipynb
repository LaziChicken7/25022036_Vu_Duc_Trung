{
 "cells": [
  {
   "cell_type": "code",
   "execution_count": null,
   "id": "16cc79bf",
   "metadata": {},
   "outputs": [],
   "source": [
    "#W2A1\n",
    "print(\"Hello World!\")"
   ]
  },
  {
   "cell_type": "code",
   "execution_count": 3,
   "id": "3da7401c",
   "metadata": {},
   "outputs": [
    {
     "name": "stdout",
     "output_type": "stream",
     "text": [
      "Xin chào ngu!\n"
     ]
    }
   ],
   "source": [
    "#W2A2\n",
    "name = str(input(\"Nhap ten cua ban:\"))\n",
    "print(\"Xin chào \", name, \"!\", sep = \"\")"
   ]
  },
  {
   "cell_type": "code",
   "execution_count": 6,
   "id": "55522b1a",
   "metadata": {},
   "outputs": [
    {
     "name": "stdout",
     "output_type": "stream",
     "text": [
      "3 + 5 = 8\n",
      "3 - 5 = -2\n",
      "3 * 5 = 15\n",
      "3 // 5 = 0\n",
      "3 % 5 = 3\n",
      "3 / 5 = 0.6\n"
     ]
    }
   ],
   "source": [
    "#W2A3\n",
    "a, b = map(int, input().split())\n",
    "print(f'{a} + {b} = {a + b}')\n",
    "print(f'{a} - {b} = {a - b}')\n",
    "print(f'{a} * {b} = {a * b}')\n",
    "print(f'{a} // {b} = {a // b}')\n",
    "print(f'{a} % {b} = {a % b}')\n",
    "print(f'{a} / {b} = {a / b}')"
   ]
  },
  {
   "cell_type": "code",
   "execution_count": 10,
   "id": "0327ffb2",
   "metadata": {},
   "outputs": [
    {
     "name": "stdout",
     "output_type": "stream",
     "text": [
      "Điểm trung bình của 6 môn học là 4.2\n"
     ]
    }
   ],
   "source": [
    "#W2A4\n",
    "a1, b1, c1, a2, b2, a3 = map(int, input().split())\n",
    "tb = ((a1 + b1 + c1) + (a2 + b2) * 2+ a3 * 3) / 10\n",
    "print(f'Điểm trung bình của 6 môn học là {tb:.1f}')"
   ]
  },
  {
   "cell_type": "code",
   "execution_count": 11,
   "id": "1d23dce4",
   "metadata": {},
   "outputs": [
    {
     "name": "stdout",
     "output_type": "stream",
     "text": [
      "3 ^ 5 = 243\n"
     ]
    }
   ],
   "source": [
    "#W2A5\n",
    "a, b = map(int, input().split())\n",
    "print(f'{a} ^ {b} = {a ** b}')"
   ]
  },
  {
   "cell_type": "code",
   "execution_count": null,
   "id": "d5ff1ec8",
   "metadata": {},
   "outputs": [],
   "source": []
  },
  {
   "cell_type": "code",
   "execution_count": 12,
   "id": "f99cf32d",
   "metadata": {},
   "outputs": [
    {
     "name": "stdout",
     "output_type": "stream",
     "text": [
      "Mã ASCII của z là 122\n"
     ]
    }
   ],
   "source": [
    "a = str(input())\n",
    "print(f'Mã ASCII của {a} là {ord(a)}')"
   ]
  },
  {
   "cell_type": "code",
   "execution_count": null,
   "id": "b6d51654",
   "metadata": {},
   "outputs": [],
   "source": []
  }
 ],
 "metadata": {
  "kernelspec": {
   "display_name": "Python 3",
   "language": "python",
   "name": "python3"
  },
  "language_info": {
   "codemirror_mode": {
    "name": "ipython",
    "version": 3
   },
   "file_extension": ".py",
   "mimetype": "text/x-python",
   "name": "python",
   "nbconvert_exporter": "python",
   "pygments_lexer": "ipython3",
   "version": "3.13.5"
  }
 },
 "nbformat": 4,
 "nbformat_minor": 5
}
